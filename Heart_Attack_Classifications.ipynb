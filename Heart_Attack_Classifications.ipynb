{
  "nbformat": 4,
  "nbformat_minor": 0,
  "metadata": {
    "colab": {
      "name": "Heart Attack Classifications.ipynb",
      "private_outputs": true,
      "provenance": [],
      "collapsed_sections": [
        "hVT2BUMYnF1b"
      ],
      "toc_visible": true,
      "mount_file_id": "1yXJYPkrqQ2PV5MCraSXhcYKvQMWJloxt",
      "authorship_tag": "ABX9TyMhoa4pcb9BQH8Fe95lNWz/",
      "include_colab_link": true
    },
    "kernelspec": {
      "name": "python3",
      "display_name": "Python 3"
    },
    "language_info": {
      "name": "python"
    },
    "accelerator": "TPU"
  },
  "cells": [
    {
      "cell_type": "markdown",
      "metadata": {
        "id": "view-in-github",
        "colab_type": "text"
      },
      "source": [
        "<a href=\"https://colab.research.google.com/github/DimaUd/HeartAttack/blob/main/Heart_Attack_Classifications.ipynb\" target=\"_parent\"><img src=\"https://colab.research.google.com/assets/colab-badge.svg\" alt=\"Open In Colab\"/></a>"
      ]
    },
    {
      "cell_type": "markdown",
      "metadata": {
        "id": "ZFnRR6DW2iS7"
      },
      "source": [
        "\n",
        "# דוגמה לשימוש בלמידה מונחית\n",
        "##בצורה פרויקטלית בהתאם לשלבים של מחזור חיים בפרויקט לימוד מכונה\n",
        "## מטרה להכיר איך נראה פרויקט של למידת מכונה תוך כדי שימוש בגישת למידת מכונה עם הנחיה\n",
        "## :בפרויקט זה נשתמש בעיקר בספריות \n",
        "\n",
        "\n",
        "\n",
        "\n",
        "* [scikit-learn](https://scikit-learn.org/stable/#)- עבור ישום מודלים והכנת נתונים\n",
        "* [pandas](https://pandas.pydata.org/docs/user_guide/index.html)- סידור נתונים ובדיקתם\n",
        "* [matplotlib](https://matplotlib.org/) & [seaborn](https://seaborn.pydata.org/)- עבור ויזואליזציה של נתונים\n",
        "* [numpy](https://numpy.org/doc/stable/reference/generated/numpy.argmax.html#numpy.argmax) - חישובים אלגבריים\n",
        "\n",
        "\n",
        "\n",
        "---\n",
        "* [KNN](https://docs.google.com/document/d/1f1AezrCGfuBdZ6Xi_jfTCAp-USfMQc09oc17YMyojYs/edit?usp=sharing) :הצגת עבודה של אלגוריתם \n",
        "\n",
        "\n",
        "![HeartDisease.jpg](https://archive.ics.uci.edu/ml/assets/MLimages/Large45.jpg)\n"
      ]
    },
    {
      "cell_type": "markdown",
      "metadata": {
        "id": "v3oa0kFKECgg"
      },
      "source": [
        "# **Business Understanding**"
      ]
    },
    {
      "cell_type": "markdown",
      "metadata": {
        "id": "Y1LWZCYMDDQs"
      },
      "source": [
        " # **( [Heart attack](https://www.infomed.co.il/diseases/heart-attack/))  התקף לב**\n",
        "##### התקף לב הוא אירוע המתרחש על פי רוב כאשר קריש דם חוסם את זרימת הדם בעורק \n",
        "##### הכלילי – כלי דם המעביר דם אל חלק משריר הלב. הפרעה בזרימת הדם אל הלב עלולה\n",
        "##### לפגוע בחלק משריר הלב, או להרוס אותו \n",
        "\n",
        "##### בעבר, התקפי לב הסתיימו לעתים קרובות במוות. הודות למודעות הגוברת לסימנים \n",
        "##### ולתסמינים של התקפי לב ולשיפור בטיפול, כיום רב האנשים הלוקים בהתקף לב נשארים בחיים\n",
        "\n",
        " **סיבות וגורמי סיכון**\n",
        " ##### המונח הרפואי של התקף לב הוא \"אוטם שריר הלב\". מיו- משמעו שריר, קרדיו פירושו לב, אינפרקט פירושו מוות של רקמה, כתוצאה ממחסור בחמצן. כמו כל שריר אחר, גם הלב זקוק לאספקה סדירה וקבועה של דם. ללא דם, תאי הלב נפגעים, באופן שגורם לכאב או לחץ. אם אספקת הדם אינה מתחדשת, תאי הלב עלולים למות ובמקרה כזה יכולה להיווצר רקמת צלקת, במקום רקמת לב פעילה. זרימה בלתי מספקת של דם אל הלב, יכולה לגרום להפרעה בקצב הלב שעלולה להיות קטלנית.\n",
        "\n",
        " ##### אוטם שריר הלב מתרחש כאשר יש סתימה באחד או בכמה מהעורקים המספקים דם עשיר בחמצן ללב. עורקים אלו נקראים עורקים כליליים והם מקיפים את הלב כמו כתר. עם הזמן, עורק כלילי נהיה צר יותר כתוצאה מהצטברות שכבה של כולסטרול. הצטברות שכבה זו – המוכרת בשם הכולל פלאקס - בעורקים בכל חלקי הגוף, מכונה בשם טרשת עורקים (אתרוסקלרוזיס) .\n",
        "\n",
        " ##### בזמן שמתרחש אוטם שריר הלב, הפלאקס עלול להיקרע וכתוצאה מכך נוצר במקום הקרע קריש דם. אם קריש הדם גדול מספיק, הוא עלול לחסום את זרימת הדם דרך העורק. מצב בו עורקים כליליים מוצרים כתוצאה מטרשת העורקים, מכונה בשם מחלת טרשת העורקים. מחלת טרשת העורקים היא הגורם העיקרי בהא הידיעה להתקפי לב.\n",
        "\n",
        " ##### גורם לא נפוץ של אוטם שריר הלב הוא עווית או פרכוס בעורק כלילי, שעוצר את זרימת הדם אל חלק משריר הלב. סמים כמו קוקאין עלולים לגרום לעווית קטלנית שכזו.\n",
        "\n",
        " ##### גורמים מסוימים, המכונים גורמי סיכון כליליים, מעלים את הסיכון ללקות בהתקף לב. גורמים אלו תורמים להיווצרות הבלתי רצויה של שכבות (טרשת עורקים) שמצרות את העורקים בכל הגוף, כולל עורקים המובילים אל הלב. \n",
        "\n",
        " ###  גורמי הסיכון לפקקת (תרומבוזה) בעורק כלילי כוללים\n",
        "\n",
        "* עישון טבק \n",
        "\n",
        "* לחץ דם גבוה. עם הזמן, לחץ דם גבוה עלול לפגוע בעורקים המזינים את הלב, בכך שהוא מאיץ טרשת עורקים.\n",
        "\n",
        "* רמה גבוהה של כולסטרול או טריגליצרידים בדם\n",
        "\n",
        "* פעילות גופנית לוקה בחסר\n",
        "* השמנת יתר. לאנשים שמנים במיוחד יש יחס גבוה של שומן גוף (מסת גוף בשיעור של 30 או יותר)\n",
        "* סוכרת\n",
        "* מתח\n",
        "* אלכוהול. כאשר הוא נצרך במתינות, אלכוהול מסייע בהעלאת רמות ה-HDL – הכולסטרול ה\"טוב\" – ויכול להגן מפני התקפי לב\n",
        "* היסטוריה משפחתית של התקפי לב\n",
        "* (CRP) C אנשים שיש להם רמות גבוהות של הומוציסטיאן, חלבון \n",
        "##### ופיברינוגן נמצאים ברמת סיכון גבוהה יותר למחלת לב\n",
        "\n",
        "# **:מטרת הפרויקט**\n",
        "#####   זיהוי מוקדם של אנשים עם סבירות גבוהה יותר להיתקף לב \n",
        "#####  ידע זה מאפשר לאנשים עם סבירות גבוהה יותר לאירוע לב להתכונן ולנקוט באמצעי כדי למנוע במידת האפשר\n",
        " \n",
        "\n",
        "\n",
        "****\n",
        "\n",
        "**לפני שמתחילים פרויקט צריך להכיר את הנושא שאותו אנחנו הולכים לחקור בצורה מספקת**\n",
        "\n",
        "**בנוסף חשוב להיעזר  במידת האפשר באנשים מתחום הנלמד**\n",
        "\n",
        "\n"
      ]
    },
    {
      "cell_type": "markdown",
      "metadata": {
        "id": "88D31mtnhu-M"
      },
      "source": [
        "#**Data Understanding & Exploration**\n",
        "data source [UCI Machine Learning Repository](https://archive.ics.uci.edu/ml/datasets/Heart+Disease)\n",
        "\n",
        "####1.Hungarian Institute of Cardiology. Budapest: Andras Janosi, M.D.\n",
        "####2.University Hospital, Zurich, Switzerland: William Steinbrunn, M.D.\n",
        "####3.University Hospital, Basel, Switzerland: Matthias Pfisterer, M.D.\n",
        "####4.V.A. Medical Center, Long Beach and Cleveland Clinic Foundation: Robert Detrano, M.D., Ph.D.\n",
        "\n",
        "####**Data Description**\n",
        "\n",
        "This database contains 76 attributes, but all published experiments refer to using a subset of 14 of them. In particular, the Cleveland database is the only one that has been used by ML researchers to this date. The \"goal\" field refers to the presence of heart disease in the patient. It is integer valued from 0 (no presence) to 4. Experiments with the Cleveland database have concentrated on simply attempting to distinguish presence (values 1,2,3,4) from absence (value 0).\n",
        "\n",
        "####**Data Overview**\n",
        "\n",
        "#####Dataset Characteristics: Multivariate\n",
        "#####Number of Instances: 303\n",
        "#####Area: Life\n",
        "#####Attribute Characteristics: Categorical, Integer, Real\n",
        "#####Number of Attributes: 75\n",
        "#####Date Donated: 1988-07-01\n",
        "#####Associated Tasks: Classification\n",
        "#####Missing Values? Yes"
      ]
    },
    {
      "cell_type": "markdown",
      "metadata": {
        "id": "umckc_iiYsVw"
      },
      "source": [
        "\n",
        "**About The Dataset**\n",
        "#####1. Age : Age of the patient     \n",
        "#####2. Sex : Sex of the patient (1 = male, 0 = female)\n",
        "#####3. exang: exercise induced angina (1 = yes; 0 = no)\n",
        "#####4. ca: number of major vessels (0-3)\n",
        "#####5. cp : Chest Pain type chest pain type\n",
        "* Value 1: typical angina\n",
        "* Value 2: atypical angina\n",
        "* Value 3: non-anginal pain\n",
        "* Value 4: asymptomatic\n",
        "\n",
        "#####6. trtbps : resting blood pressure (in mm Hg)\n",
        "#####7. chol : cholestoral in mg/dl fetched via BMI sensor\n",
        "#####8. fbs : (fasting blood sugar > 120 mg/dl) (1 = true; 0 = false)\n",
        "#####9. rest_ecg : resting electrocardiographic results\n",
        "* Value 0: normal\n",
        "* Value 1: having ST-T wave abnormality (T wave inversions and/or ST elevation or depression of > 0.05 mV)\n",
        "* Value 2: showing probable or definite left ventricular hypertrophy by Estes' criteria\n",
        "\n",
        "#####10. thal: 3 = normal; 6 = fixed defect; 7 = reversable defect\n",
        "#####11. thalach : maximum heart rate achieved\n",
        "#####12. oldpeak: ST depression induced by exercise relative to rest\n",
        "#####13. slope: the slope of the peak exercise ST segment\n",
        "* Value 1: upsloping\n",
        "* Value 2: flat\n",
        "* Value 3: downsloping\n",
        "\n",
        "####14. **target : 0 = less chance of heart attack, 1 = more chance of heart attack**"
      ]
    },
    {
      "cell_type": "markdown",
      "metadata": {
        "id": "QFi7RJ_AvZs2"
      },
      "source": [
        "#### כדי לעבוד בצורה נכונה עם הנתונים חשוב מאד להבין ברמה מספיקה מה אומר כל אחד ממשתנים \n",
        "####  להגדיר מה סוג של המשתנה ענין זה משפיעה בצורה רבה על בחירת מודלים ומדדים \n",
        "###  שמסוגלים להתמודד עם סוג מתאים של המשתנים\n",
        "\n",
        "#### וכמובן השפעה רבה על תוצאות המודלים ויכולת הסבר של התוצאות שאנחנו מקבלים\n",
        "\n",
        "#### בנוסף הבנה זו תתרום תרומה מכרעת להרכבת משתנים נוספים והבנת חריגים לא רק ברמה סטטיסטית\n",
        "#### מדען נתונים שרוצה להשיג תוצר איכותי חייב לרדת לפרטים \n"
      ]
    },
    {
      "cell_type": "markdown",
      "metadata": {
        "id": "8pOcx4VQggTQ"
      },
      "source": [
        "### Importing Libraries and Dataset-יבוא ספריות ונתונים להבנת הנתונים"
      ]
    },
    {
      "cell_type": "code",
      "metadata": {
        "id": "3mykIzVPiLM8"
      },
      "source": [
        "#Importing Libraries\n",
        "import numpy as np \n",
        "import pandas as pd\n",
        "import matplotlib.pyplot as plt \n",
        "import seaborn as sns\n",
        "sns.set_style('darkgrid')\n",
        "import warnings\n",
        "warnings.filterwarnings('ignore', category=DeprecationWarning)\n",
        "pd.options.mode.chained_assignment = None\n",
        "pd.options.display.float_format = '{:.2f}'.format\n",
        "pd.set_option('display.max_columns', 40)\n",
        "pd.set_option('display.width', 600)\n",
        "%matplotlib inline \n",
        "\n",
        "from sklearn.model_selection import train_test_split\n",
        "from sklearn.preprocessing import StandardScaler \n",
        "from sklearn.metrics import accuracy_score\n",
        "from sklearn.neighbors import KNeighborsClassifier  "
      ],
      "execution_count": null,
      "outputs": []
    },
    {
      "cell_type": "markdown",
      "metadata": {
        "id": "MOBRjRnskbH1"
      },
      "source": [
        "### Reading The Dataset"
      ]
    },
    {
      "cell_type": "code",
      "metadata": {
        "id": "cwSCMvX4jd1d"
      },
      "source": [
        "# Dataset on my github-page\n",
        "url='https://github.com/DimaUd/Heart-Attack-/blob/main/heart.csv?raw=true'\n",
        "heart_data =pd.read_csv(url,)\n",
        "display(heart_data.head())\n",
        "display(heart_data.tail())"
      ],
      "execution_count": null,
      "outputs": []
    },
    {
      "cell_type": "markdown",
      "metadata": {
        "id": "VNRe0C3Vq2I5"
      },
      "source": [
        "### Descriptive statistics\n",
        " "
      ]
    },
    {
      "cell_type": "markdown",
      "metadata": {
        "id": "h_SLucTBN9g6"
      },
      "source": [
        "#### Generale Dataset  Statistics"
      ]
    },
    {
      "cell_type": "code",
      "metadata": {
        "id": "_mCsIMyXsVNS"
      },
      "source": [
        "display(heart_data.describe(include = 'all').T)\n",
        "print(\"=========================================\")\n",
        "print(\"The shape of the dataset is : \", heart_data.shape)"
      ],
      "execution_count": null,
      "outputs": []
    },
    {
      "cell_type": "markdown",
      "metadata": {
        "id": "vPeTZcUMtUKP"
      },
      "source": [
        "#####בשביל הבנה כללית בקשר לנתונים שיש בקובץ\n",
        "#####אנחנו רוצים לראות בצורה סיכומית ממוצעים וסטיות תקן \n",
        "#####  של המשתנים \n",
        "\n",
        " #####  חשוב לשים לב על ערכים קיצוניים לפי משתנים \n",
        "  \n",
        "#####  כמו כן חשוב לראות האם נתונים שלנו מאוזנים \n",
        "#####  זאת אומרת שפחות או יותר מספר אנשים עם סבירות \n",
        "#####  להיתקף לב שווה למספר אנשים עם סבירות נמוכה  \n"
      ]
    },
    {
      "cell_type": "markdown",
      "metadata": {
        "id": "Ml987FDDPDX5"
      },
      "source": [
        "#### Checking for null values"
      ]
    },
    {
      "cell_type": "code",
      "metadata": {
        "id": "ug9E5K_mO9Aj"
      },
      "source": [
        "heart_data[heart_data.isna().any(axis=1)]\n"
      ],
      "execution_count": null,
      "outputs": []
    },
    {
      "cell_type": "markdown",
      "metadata": {
        "id": "awEW7MNgTQJ5"
      },
      "source": [
        "#### בדיקת איכות נתונים לקיום ערכים  חסרים שיכולים לשבש עבודה של אלגוריתמים רבים שמשתמשים בלמידת מכונה"
      ]
    },
    {
      "cell_type": "markdown",
      "metadata": {
        "id": "jqTeZYFzP5zG"
      },
      "source": [
        "#### Checking for duplicates rows"
      ]
    },
    {
      "cell_type": "code",
      "metadata": {
        "id": "UZdI6s2-Ourz"
      },
      "source": [
        "heart_data[heart_data.duplicated()]"
      ],
      "execution_count": null,
      "outputs": []
    },
    {
      "cell_type": "code",
      "metadata": {
        "id": "r2NljVp9Qz43"
      },
      "source": [
        "# Removing the duplicates\n",
        "heart_data.drop_duplicates(keep='first',inplace=True)\n",
        "print(\"The shape of the dataset is after dropping dublicate row: \", heart_data.shape)"
      ],
      "execution_count": null,
      "outputs": []
    },
    {
      "cell_type": "markdown",
      "metadata": {
        "id": "jZ7Zf_BsVRzI"
      },
      "source": [
        "#### בדיקת כפילויות הציפה לנו תצפית כפולה או לפחות זהה ולכן אני מחליט לטפל בתופעה זו על ידי מחיקה של התצפית"
      ]
    },
    {
      "cell_type": "markdown",
      "metadata": {
        "id": "WBWUxL6uOae6"
      },
      "source": [
        "#### Unique value & Data types "
      ]
    },
    {
      "cell_type": "code",
      "metadata": {
        "id": "j2XNcO9p8uBd"
      },
      "source": [
        "\n",
        "unique_val={}\n",
        "for i in (heart_data.columns):\n",
        "    unique_val[i]=heart_data[i].value_counts().shape[0]\n",
        "display(pd.DataFrame(unique_val,index=[\"unique_val\"]))\n",
        "print(\"____________Data type___________\") \n",
        "print(heart_data.info())\n"
      ],
      "execution_count": null,
      "outputs": []
    },
    {
      "cell_type": "markdown",
      "metadata": {
        "id": "Qxfy3kYhRe-v"
      },
      "source": [
        "#### טבלת מספר ערכים יחודיים לפי משתנים בקובץ מספקת \n",
        "####מבט נוסף ותחושה טובה יותר בקשר למשתנים וסוגיהם \n",
        " (כעדות נוספת לקובץ הסבר)\n",
        "#### מהצגה של אינפורמציה על הקובץ אנחנו מזההים שכל המשתנים מוצגים בצורה מספרית כולל קטגורליים \n",
        "\n"
      ]
    },
    {
      "cell_type": "markdown",
      "metadata": {
        "id": "cF8DR-Olg3ZF"
      },
      "source": [
        "#### Creating data by categorical and continuous "
      ]
    },
    {
      "cell_type": "code",
      "metadata": {
        "id": "uMknWa_2kLNr"
      },
      "source": [
        "categorical_features  =[]\n",
        "numeric_features  =[]\n",
        "for column in heart_data.drop(['output'],axis=1).columns:\n",
        "    print('________________________')\n",
        "    print(f\"{column}:{heart_data[column].unique()}\")\n",
        "    if len(heart_data[column].unique())<=10:\n",
        "        categorical_features.append(column)\n",
        "    else:numeric_features .append(column)  \n",
        "print('______Categorical Columns____________')\n",
        "print(categorical_features )  \n",
        "print('________Continuous Columns____________')\n",
        "print(numeric_features )"
      ],
      "execution_count": null,
      "outputs": []
    },
    {
      "cell_type": "code",
      "metadata": {
        "id": "xLUL00d4ATGr"
      },
      "source": [
        "for column in heart_data[categorical_features ].columns:\n",
        "    print('________________________')\n",
        "    print(f\"{column}:{heart_data[column].value_counts()}\")"
      ],
      "execution_count": null,
      "outputs": []
    },
    {
      "cell_type": "markdown",
      "metadata": {
        "id": "RNwRFAOGBvKn"
      },
      "source": [
        ",ביקורת של משתנים קטגורליים מגלה שבשני משתנים קטגוריאליים \n",
        "#####יש יותר קטגוריות מהמוצהר בהסבר מצורף לנתונים\n",
        "##### ,במקרה כזה כמובן הכי טוב להבין איך הדבר הזה נוצר ולדבר עם אחראי על נתונים \n",
        "##### כדי לברר איך נכון להתיחס לנתונים אלו בניתוח\n",
        "##### במקרים רבים אנחנו בטח נקבל תשובה ונפעל עלפיה. \n",
        "##### במקרה נוכחי  אני יכול למחוק את התצפיות שמכילות את הקטגוריות לא \n",
        "##### מזוהות אבל אני מחליט לשמור תצפיות אלו ולהחליף אותם בערך שכיח ביותר \n",
        "\n"
      ]
    },
    {
      "cell_type": "code",
      "metadata": {
        "id": "EtEspPuXoC2u"
      },
      "source": [
        "#replace  unknown category value, with more frequent catergory\n",
        "#  thal: 3 = normal; 6 = fixed defect; 7 = reversable defect \n",
        "\n",
        "heart_data['thall'].replace(0,heart_data['thall'].value_counts().index[0],inplace=True)\n",
        "# ca: number of major vessels (0-3)\n",
        "heart_data['caa'].replace(4,heart_data['caa'].value_counts().index[0],inplace=True)\n",
        "\n"
      ],
      "execution_count": null,
      "outputs": []
    },
    {
      "cell_type": "code",
      "metadata": {
        "id": "JnocZPY5zzFC"
      },
      "source": [
        "\n",
        "print(\"Check vars valuee thall and caa aftr replaycment\\n thall counts:\\n\",heart_data['thall'].value_counts())\n",
        "print('________________________')\n",
        "print('caa counts:\\n',heart_data['caa'].value_counts())"
      ],
      "execution_count": null,
      "outputs": []
    },
    {
      "cell_type": "markdown",
      "metadata": {
        "id": "ilWu4K1oCB1r"
      },
      "source": [
        "**:הערה**\n",
        "##### cp,thal, Slp:במקרה שלנו יש מספר משתנים קוטגוראליים כמו \n",
        "##### שלהם אין התאמה מדוקית בין ערכים בנתונים לאלו שיש בהסבר\n",
        "##### לכן כדי למפותהנחתי שמיפוי לפי סדר מספרי פשוט\n",
        "##### כמובן מצב זה מתאים אך ורק לצורך תרגיל במציאות\n",
        "#####  חשוב לוודא שאנחנו עושים מיפוי מדויק בלי ניחושים מיותרים"
      ]
    },
    {
      "cell_type": "markdown",
      "metadata": {
        "id": "U6uMjfLHWSmG"
      },
      "source": [
        "##### *:סוגי משתנים*\n",
        "*   Continuos -age,trestbps, chol, thalach, oldpeak\n",
        "*   Categorical- cp, restecg, slope, ca, thal,sex, fbs, exang, target\n",
        "\n",
        "**הערה**\n",
        " \n",
        "###### נראה כך שיש מספר משתנים שאפשר להתייחס אליהם כלמשתנים סידוריים\n",
        "###### השערה זו יכולה לשרת אותנו במקרה שנרצה לבנות משתנים נוספים \n",
        "\n",
        "\n",
        "#####ca-Number of major vessels (0–3) colored by fluoroscopy\n",
        "##### SLP-Slope of the peak exercise ST segment\n"
      ]
    },
    {
      "cell_type": "markdown",
      "metadata": {
        "id": "3KepxfWsiu9x"
      },
      "source": [
        "#### Adding  Data natation for  Visualisation"
      ]
    },
    {
      "cell_type": "code",
      "metadata": {
        "id": "4CELVuP5vR72"
      },
      "source": [
        "heart_data_vis=heart_data.copy()\n",
        "\n",
        "heart_data_vis['sex'] = heart_data_vis['sex'].map({0:'0-Female', 1:'1-Male'})\n",
        "heart_data_vis['exng'] = heart_data_vis['exng'].map({0:'0-False', 1:'1-True'})\n",
        "heart_data_vis['cp'] = heart_data_vis['cp'].map({0:'0-typical angina', 1:'1-atypical angina', 2:'2-non-anginal pain', 3:'3-asymptomatic'})\n",
        "heart_data_vis['fbs'] = heart_data_vis['fbs'].map({0:'0-False', 1:'1-True'})\n",
        "heart_data_vis['restecg']=heart_data_vis['restecg'].map({0:'0-normal',1:'1-ST-Twave abnormality',2:'2-Ventricular hypertrophy'})\n",
        "heart_data_vis['output'] = heart_data_vis['output'].map({0:'0-Less Chance', 1:'1-More Chance'})\n",
        "\n",
        "heart_data_vis.head()\n"
      ],
      "execution_count": null,
      "outputs": []
    },
    {
      "cell_type": "markdown",
      "metadata": {
        "id": "8VoFeQr30EBk"
      },
      "source": [
        "#### Categorical data visualisation"
      ]
    },
    {
      "cell_type": "code",
      "metadata": {
        "id": "U2tpWFLhtwHj"
      },
      "source": [
        "ax= sns.countplot(x=heart_data_vis['output'],data=heart_data_vis)\n",
        "for bar in ax.patches:\n",
        "    ax.annotate(format(bar.get_height(), ),\n",
        "                   (bar.get_x() + bar.get_width() / 2,\n",
        "                    bar.get_height()), ha='center', va='center',\n",
        "                   size=12, xytext=(0, 10),\n",
        "                   textcoords='offset points',\n",
        "                   fontweight=\"bold\")\n",
        "    plt.title('Target');"
      ],
      "execution_count": null,
      "outputs": []
    },
    {
      "cell_type": "markdown",
      "source": [
        "#####, אפשר לראות שמשתנה מטרה קצת לא מאוזן\n",
        "#####בשלב של מודלים בחלק של חלוקת נתונים לחלק עבור אימון\n",
        "##### וחלק עבור בדיקה סביר שנשתמש בפונקציה  לחלוקה \n",
        "##### פרפורציאונלית לפי מחלקות של המשתנה\n",
        "Stratified Train-Test Splits"
      ],
      "metadata": {
        "id": "-kfWMjbo9Zur"
      }
    },
    {
      "cell_type": "markdown",
      "metadata": {
        "id": "5bI8H3XSHlDv"
      },
      "source": [
        "#### Categorical Frequency"
      ]
    },
    {
      "cell_type": "code",
      "metadata": {
        "id": "k21r8x-VHPde"
      },
      "source": [
        "def graph(name, u, title):\n",
        "    sns.countplot(x=heart_data_vis[name],  ax=u)\n",
        "    \n",
        "    plt.setp(u.get_xticklabels(), rotation=0)\n",
        "    u.set_title(title, fontsize=11, fontdict={\"fontweight\": \"bold\"})\n",
        "    \n",
        "    for p in u.patches:\n",
        "        text = str(int(p.get_height()))\n",
        "        u.annotate(text, (p.get_x()+p.get_width()/2, p.get_height()+3),\n",
        "                   ha=\"center\", va='center', fontsize=10, fontweight=\"bold\")\n",
        "\n",
        "fig2, ax2 = plt.subplots(4,2, figsize=(15, 20), gridspec_kw={\"wspace\" : 0.4, \"hspace\" : 0.3, \"top\": 0.95})\n",
        "\n",
        "colors=[\"#ff0000\",\"#ff8000\",\"#ffff00\",\"#80ff00\",\"#00ff00\", \"#00ff80\", \"#00ffff\", \"#0080ff\", \"#0000ff\", \"#8000ff\", \"#ff00ff\", \"#ff0080\"]\n",
        "\n",
        "graph(\"sex\", ax2[0,0], 'sex')\n",
        "graph(\"exng\", ax2[0,1], 'Exercise induced angina')\n",
        "graph(\"cp\", ax2[1,0], 'Chest Pain Type')\n",
        "graph(\"fbs\", ax2[1,1], 'Fasting Blood Sugar > 120 mg/dl')\n",
        "graph('restecg', ax2[2,0], 'Resting Electrocardiographic Results')\n",
        "graph('caa', ax2[2,1], 'Number of Major Vessels')\n",
        "graph('slp', ax2[3,0], 'Slope')\n",
        "graph('thall', ax2[3,1], 'Thal Rate')\n",
        "plt.rcParams['axes.axisbelow'] = True"
      ],
      "execution_count": null,
      "outputs": []
    },
    {
      "cell_type": "markdown",
      "metadata": {
        "id": "CuTGF7WrUghd"
      },
      "source": [
        "##### Count plot by categorical var and target class"
      ]
    },
    {
      "cell_type": "code",
      "metadata": {
        "id": "btLX6-FR0Cwn"
      },
      "source": [
        "def graph(name, u, title):\n",
        "    sns.countplot(x=heart_data_vis[name], hue=heart_data_vis['output'], ax=u)\n",
        "    \n",
        "    plt.setp(u.get_xticklabels(), rotation=0)\n",
        "    u.set_title(title, fontsize=11, fontdict={\"fontweight\": \"bold\"})\n",
        "    \n",
        "    for p in u.patches:\n",
        "        text = str(int(p.get_height()))\n",
        "        u.annotate(text, (p.get_x()+p.get_width()/2, p.get_height()+3),\n",
        "                   ha=\"center\", va='center', fontsize=10, fontweight=\"bold\")\n",
        "\n",
        "fig2, ax2 = plt.subplots(4,2, figsize=(15, 20), gridspec_kw={\"wspace\" : 0.4, \"hspace\" : 0.3, \"top\": 0.95})\n",
        "\n",
        "colors=[\"#ff0000\",\"#ff8000\",\"#ffff00\",\"#80ff00\",\"#00ff00\", \"#00ff80\", \"#00ffff\", \"#0080ff\", \"#0000ff\", \"#8000ff\", \"#ff00ff\", \"#ff0080\"]\n",
        "\n",
        "graph(\"sex\", ax2[0,0], 'sex')\n",
        "graph(\"exng\", ax2[0,1], 'Exercise induced angina')\n",
        "graph(\"cp\", ax2[1,0], 'Chest Pain Type')\n",
        "graph(\"fbs\", ax2[1,1], 'Fasting Blood Sugar > 120 mg/dl')\n",
        "graph('restecg', ax2[2,0], 'Resting Electrocardiographic Results')\n",
        "graph('caa', ax2[2,1], 'Number of Major Vessels')\n",
        "graph('slp', ax2[3,0], 'Slope')\n",
        "graph('thall', ax2[3,1], 'Thal Rate')\n",
        "plt.rcParams['axes.axisbelow'] = True"
      ],
      "execution_count": null,
      "outputs": []
    },
    {
      "cell_type": "markdown",
      "metadata": {
        "id": "kUN8v70nVA4J"
      },
      "source": [
        "##### Hist plot by categorical var, with percent ratio"
      ]
    },
    {
      "cell_type": "code",
      "metadata": {
        "id": "wtk-etXPBa0B"
      },
      "source": [
        "def graph(name, u, title):\n",
        "    sns.histplot(data=heart_data_vis,x=heart_data_vis[name],hue=heart_data_vis['output'],stat=\"percent\", multiple=\"fill\", shrink=.8, ax=u)\n",
        "    plt.setp(u.get_xticklabels(), rotation=0)\n",
        "    u.set_title(title, fontsize=11, fontdict={\"fontweight\": \"bold\"})    \n",
        "    for p in u.patches:\n",
        "        text = str((p.get_height()))\n",
        "        u.annotate(text, (p.get_x()+p.get_width()/2, p.get_height()+3),\n",
        "                   ha=\"center\", va='center', fontsize=10, fontweight=\"bold\")\n",
        "fig2, ax2 = plt.subplots(4,2, figsize=(15, 20), gridspec_kw={\"wspace\" : 0.4, \"hspace\" : 0.3, \"top\": 0.95})\n",
        "\n",
        "colors=[\"#ff0000\",\"#ff8000\",\"#ffff00\",\"#80ff00\",\"#00ff00\", \"#00ff80\", \"#00ffff\", \"#0080ff\", \"#0000ff\", \"#8000ff\", \"#ff00ff\", \"#ff0080\"]\n",
        "\n",
        "graph(\"sex\", ax2[0,0], 'sex')\n",
        "graph(\"exng\", ax2[0,1], 'Exercise induced angina')\n",
        "graph(\"cp\", ax2[1,0], 'Chest Pain Type')\n",
        "graph(\"fbs\", ax2[1,1], 'Fasting Blood Sugar > 120 mg/dl')\n",
        "graph('restecg', ax2[2,0], 'Resting Electrocardiographic Results')\n",
        "graph('caa', ax2[2,1], 'Number of Major Vessels')\n",
        "graph('slp', ax2[3,0], 'Slope')\n",
        "graph('thall', ax2[3,1], 'Thal Rate')\n",
        "plt.rcParams['axes.axisbelow'] = True"
      ],
      "execution_count": null,
      "outputs": []
    },
    {
      "cell_type": "code",
      "metadata": {
        "id": "xonjieAGFJT0"
      },
      "source": [
        "# The same output by number \n",
        "for name in heart_data_vis[categorical_features].columns:\n",
        "    print(heart_data_vis['output'].groupby(heart_data_vis[name]).value_counts(normalize=True).rename('Precent').reset_index())                        "
      ],
      "execution_count": null,
      "outputs": []
    },
    {
      "cell_type": "markdown",
      "metadata": {
        "id": "YrgU4b9tm5S0"
      },
      "source": [
        "##### Intermediate conclusion"
      ]
    },
    {
      "cell_type": "markdown",
      "metadata": {
        "id": "hVT2BUMYnF1b"
      },
      "source": [
        "#### Continuous data visualation"
      ]
    },
    {
      "cell_type": "code",
      "metadata": {
        "id": "s-T8kkNL2xF5"
      },
      "source": [
        "fig = plt.figure(figsize=(20,10))\n",
        "gs = fig.add_gridspec(1,5)\n",
        "gs.update(wspace=0.3, hspace=0.15)\n",
        "ax0 = fig.add_subplot(gs[0,0])\n",
        "ax1 = fig.add_subplot(gs[0,1])\n",
        "ax2 = fig.add_subplot(gs[0,2])\n",
        "ax3 = fig.add_subplot(gs[0,3]) \n",
        "ax4 = fig.add_subplot(gs[0,4])\n",
        "# ax5 = fig.add_subplot(gs[1,2])\n",
        "\n",
        "# Age \n",
        "ax0.text(-0.05, 81, 'Age', fontsize=14, fontweight='bold', fontfamily='serif', color=\"#000000\")\n",
        "ax0.grid(color='#000000', linestyle=':', axis='y', zorder=0,  dashes=(1,5))\n",
        "sns.boxenplot(ax=ax0,y=heart_data_vis['age'],palette=[\"#800000\"],width=0.6)\n",
        "ax0.set_xlabel(\"\")\n",
        "ax0.set_ylabel(\"\")\n",
        "# Trtbps \n",
        "ax1.text(-0.05, 208, 'Trtbps', fontsize=14, fontweight='bold', fontfamily='serif', color=\"#000000\")\n",
        "ax1.grid(color='#000000', linestyle=':', axis='y', zorder=0,  dashes=(1,5))\n",
        "sns.boxenplot(ax=ax1,y=heart_data_vis['trtbps'],palette=[\"#8000ff\"],width=0.6)\n",
        "ax1.set_xlabel(\"\")\n",
        "ax1.set_ylabel(\"\")\n",
        "# Chol \n",
        "ax2.text(-0.05, 600, 'Chol', fontsize=14, fontweight='bold', fontfamily='serif', color=\"#000000\")\n",
        "ax2.grid(color='#000000', linestyle=':', axis='y', zorder=0,  dashes=(1,5))\n",
        "sns.boxenplot(ax=ax2,y=heart_data_vis['chol'],palette=[\"#6aac90\"],width=0.6)\n",
        "ax2.set_xlabel(\"\")\n",
        "ax2.set_ylabel(\"\")\n",
        "# Thalachh \n",
        "ax3.text(-0.09, 210, 'Thalachh', fontsize=14, fontweight='bold', fontfamily='serif', color=\"#000000\")\n",
        "ax3.grid(color='#000000', linestyle=':', axis='y', zorder=0,  dashes=(1,5))\n",
        "sns.boxenplot(ax=ax3,y=heart_data_vis['thalachh'],palette=[\"#5833ff\"],width=0.6)\n",
        "ax3.set_xlabel(\"\")\n",
        "ax3.set_ylabel(\"\")\n",
        "# oldpeak \n",
        "ax4.text(-0.1, 6.6, 'Oldpeak', fontsize=14, fontweight='bold', fontfamily='serif', color=\"#000000\")\n",
        "ax4.grid(color='#000000', linestyle=':', axis='y', zorder=0,  dashes=(1,5))\n",
        "sns.boxenplot(ax=ax4,y=heart_data_vis['oldpeak'],palette=[\"#da8829\"],width=0.6)\n",
        "ax4.set_xlabel(\"\")\n",
        "ax4.set_ylabel(\"\");"
      ],
      "execution_count": null,
      "outputs": []
    },
    {
      "cell_type": "markdown",
      "metadata": {
        "id": "AeTNuB4VALjf"
      },
      "source": [
        "![Box-Plot.jpg](https://miro.medium.com/max/2400/1*Mn5NoddG6Hlqqld171x-Xg.jpeg)"
      ]
    },
    {
      "cell_type": "markdown",
      "metadata": {
        "id": "IDI5abb7-i6q"
      },
      "source": [
        "##### כפי שניתן לראות בחלק מהמשתנים יש ערכים חריגים\n",
        "##### עובדה זו יכולה לשבש עבודה של אלגוריתם \n",
        "#####  **RobustScaler** :ולכן אבדוק שימוש ב \n",
        "##### **value = (value – median) / (Q3 – Q1)**\n",
        "##### כתוצאה מקבלים ממוצע וחציון שווים לאפס וסטיית תקן של 1\n",
        "##### ובנוסף ערכים קיצוניים מיוצגים בנתונים"
      ]
    },
    {
      "cell_type": "markdown",
      "metadata": {
        "id": "BikD9KuK8fK9"
      },
      "source": [
        "KNN נקודה נוספת חשובה בקשר לערכים קיצוניים של \n",
        "####[Impact of Outliers ](https://becominghuman.ai/all-you-need-to-know-about-k-nn-machine-learning-algorithm-40c3ca45131e):\n",
        "###### If ‘K’ value is low, the model is susceptible to outliers.\n",
        "##### If ‘K’ value is high, the model is robust to outliers.\n",
        "##### Why is it so??\n",
        "Let take K=1, suppose there is 1 outlier near to our test point and then the model predicts the label corresponding to the outlier. In this same scenario if we take K=7, there will be other 6 nearest neighbors(not outliers) and 1 outlier in the neighborhood of test point and when we take the majority vote we tend to get the result based on 6 nearest neighbors."
      ]
    },
    {
      "cell_type": "markdown",
      "metadata": {
        "id": "GPvWc91XMQQo"
      },
      "source": [
        "**AGE**:ניתן לראות שרוב האנשים באוכלוסיה הנחקרת נמצאים בטווח גלאים 50-60\n"
      ]
    },
    {
      "cell_type": "code",
      "metadata": {
        "id": "KvjQAEcCm3Rq"
      },
      "source": [
        "sns.pairplot(data=heart_data_vis[['age', 'trtbps', 'chol', 'thalachh', 'oldpeak','output']],hue='output');"
      ],
      "execution_count": null,
      "outputs": []
    },
    {
      "cell_type": "code",
      "metadata": {
        "id": "w8so2u__pP7I"
      },
      "source": [
        "plt.figure(figsize=(16,12))\n",
        "sns.heatmap(data=heart_data_vis[numeric_features + ['caa','slp']].corr(),annot=True)\n",
        "plt.title('Correlation matrix between variebls');\n"
      ],
      "execution_count": null,
      "outputs": []
    },
    {
      "cell_type": "code",
      "metadata": {
        "id": "_ojpTT7d09T_"
      },
      "source": [
        "plt.figure(figsize=(14,8))\n",
        "sns.histplot(data=heart_data_vis, x=\"age\", hue=\"output\",bins=4,);\n",
        "#sns.jointplot(x='age',y='trtbps',data=heart_data_vis,hue='output')        \n"
      ],
      "execution_count": null,
      "outputs": []
    },
    {
      "cell_type": "code",
      "metadata": {
        "id": "dXFiuJ9iJFfn"
      },
      "source": [
        "heart_clean_data=heart_data.copy()"
      ],
      "execution_count": null,
      "outputs": []
    },
    {
      "cell_type": "markdown",
      "metadata": {
        "id": "1GnOUqACiEax"
      },
      "source": [
        "#Data Preparation"
      ]
    },
    {
      "cell_type": "markdown",
      "metadata": {
        "id": "jc1S0cjCAq4p"
      },
      "source": [
        "######כעת אחרי הבנה עסקית כולל הגדרת שאלה \n",
        "######ואחרי חקירה וניקוי נתונים אפשר לעבור לשלב \n",
        "######הכנת נתונים לטובת בניית אלגוריתמים שיאפשרו\n",
        "######לפתור בעיה עסקית, במקרה שלנו על פי מספר פרמטרים \n",
        "######לזהות אדם עם סיכוי גבוהה יותר ליתקף לב \n",
        " *KNN במדירך זה תוך כדי הסבר אציג הכנת נתונים עבור אלגוריתם*\n",
        "#####.כדי להכין נתונים עבור אלגוריתם חשוב להבין עקרון עבודתו\n",
        "#####,K-מבוסס על בחירת כמות שכנים KNN \n",
        "##### איזוגי K כאשר מספר מחלקות זוגי נכון לבחור  מספר \n",
        "#####  מכיוון שהחלטת שיוך תצפית למחלקה מסוימת מטבצעת \n",
        "#####על פי שיוך של רוב שכנים הקרובים לתצפית שאותה מנסים לשייך למחלקה\n",
        "##### על בסיס מדדי קירבה שונים נוכל לבחור תצפיות רלונטיות\n",
        "##### KNN בהרחבה יתרה ניתן [ לעיין במסמך על](https://docs.google.com/document/d/1f1AezrCGfuBdZ6Xi_jfTCAp-USfMQc09oc17YMyojYs/edit?usp=sharing) "
      ]
    },
    {
      "cell_type": "markdown",
      "metadata": {
        "id": "qfgHF9vwZTxk"
      },
      "source": [
        "![KNN_k1.PNG](data:image/png;base64,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)"
      ]
    },
    {
      "cell_type": "markdown",
      "metadata": {
        "id": "uXVVavG8tEp1"
      },
      "source": [
        "*:שלבי עבודה של אלגוריתם*\n",
        "* K קביעת מספר שכנים הקרובים \n",
        "* בחירת שכנים הקרובים \n",
        "* ספירת מספר שכנים לפי מחלקות \n",
        "* סיווג תצפית למחקלה השכיחה\n"
      ]
    },
    {
      "cell_type": "code",
      "metadata": {
        "id": "HAaOwDM1CtnB"
      },
      "source": [
        "from sklearn.compose  import ColumnTransformer #column subsets  that transformed separately and the features generated by each transformer will be concatenated to form a single feature space. \n",
        "from sklearn.pipeline import Pipeline #Pipeline is used to assemble several steps that can be cross-validated together while setting different parameters.\n",
        "from sklearn.preprocessing import  StandardScaler, OneHotEncoder, RobustScaler,OrdinalEncoder,MinMaxScaler\n",
        "from sklearn.model_selection import train_test_split, GridSearchCV,cross_val_score\n",
        "from sklearn.neighbors import KNeighborsClassifier\n",
        "\n",
        "from sklearn.metrics import classification_report, confusion_matrix, accuracy_score, roc_curve, roc_auc_score,plot_confusion_matrix,f1_score\n",
        "from sklearn import metrics\n",
        "import warnings\n",
        "warnings.filterwarnings('ignore')"
      ],
      "execution_count": null,
      "outputs": []
    },
    {
      "cell_type": "markdown",
      "metadata": {
        "id": "Kn3_GGf771re"
      },
      "source": [
        "\n",
        "##Scaling and encoding dataset"
      ]
    },
    {
      "cell_type": "code",
      "metadata": {
        "id": "RimQ1Hn3XG92"
      },
      "source": [
        "print('categorical features:',categorical_features) \n",
        "print('numeric_features:',numeric_features )\n",
        "\n",
        "#categorical features: ['sex', 'cp', 'fbs', 'restecg', 'exng', 'slp', 'caa', 'thall']\n",
        "#numeric_features: ['age', 'trtbps', 'chol', 'thalachh', 'oldpeak']\n"
      ],
      "execution_count": null,
      "outputs": []
    },
    {
      "cell_type": "markdown",
      "metadata": {
        "id": "Y0JBPTtYfU8b"
      },
      "source": [
        "\n",
        "#####  בשלב זה חשוב להבין שיש לנו מספר תרחישים שבהם אנחנו יכולים לפעול \n",
        "##### בהנתן לצורה שבה  נגדיר נתונים לפי סוג נצטרך להתאים שיטת טרנספורמציה\n",
        "##### .כדי  שנוכל להפיק מקסימום מידע היכרחי ולהתאים מודל אמין ומדויק\n",
        "\n",
        "##### כמשתנים סידוריים slp & caa כך למשל ניתן להגדיר את המשתנים\n",
        "##### ואז נצטרך להתאים שיטת טרנספוקמציה שמתחשבת בעובדה זו\n",
        "##### בנוסף אנחנו צריכים להפוך את המשתנים קטגורליים לבנאריים\n",
        "##### במקרה שלנו מכיוון שעל בסיס ידע שיש לי בנושא הפרויקט\n",
        "#####  (ערכי קטגוריות הם סימטריים (לפחות זו היא ההנחה לפרויקט זה\n",
        "##### ואלגוריתם זה יודע לעבוד רק עם ערכים מספריים.\n",
        "##### בנוי על בחינת מרחק בין התצפיות במרחב  KNN חשוב להבין שאלגוריתם \n",
        "##### ולכן יש חשיבות רבה איך ובין מה אנחנו מודדים את המרחק\n",
        "##### אשר מושפע במידה רבה מכל משתנה שאנחנו מתחשבים \n",
        "#####  בוא במטרה לבדוק מרחק בין התצפיות\n",
        "##### בנוסף מאד חשוב להפוך את הסכלה של משתנים רציפים \n",
        "##### כדי למנוע השפעה לא פרופורציונאלית של משתנים אלו\n",
        "##### כדי להדגים השפעה של הדברים אלו בחרתי לעשות הדגמה\n",
        "##### מדורגת של שיטות טרנספורמציה על התוצאה סופית\n"
      ]
    },
    {
      "cell_type": "markdown",
      "metadata": {
        "id": "ARS8YSb2CevV"
      },
      "source": [
        "#### No preprocessing"
      ]
    },
    {
      "cell_type": "code",
      "metadata": {
        "id": "ye1pjahlEekx"
      },
      "source": [
        "heart_data_prep=heart_clean_data.copy()# לוקח רק נתונים רציפים מכיוון שנתונים קטגורליים לא רלונטיים בכלל לאלגוריתם ללא טרנספורמציה\n",
        "print(f'heart_data_noprep Example: \\n{heart_clean_data[numeric_features].head(1)}')\n",
        "X=heart_clean_data[numeric_features]\n",
        "y=heart_clean_data['output']\n",
        "\n",
        "X_train, X_test, y_train, y_test = train_test_split(X, y, test_size=0.2, random_state=42)\n",
        "grid_params={\n",
        "    'n_neighbors':range(2,40),\n",
        "    'weights':['uniform','distance'],\n",
        "    'metric':['euclidean','manhattan','minkowski']\n",
        "\n",
        "}\n",
        "gs=GridSearchCV(\n",
        "    KNeighborsClassifier(),\n",
        "    grid_params,\n",
        "    verbose=1,\n",
        "    cv=10,\n",
        "    n_jobs=-1,\n",
        "    return_train_score=True\n",
        ")\n",
        "\n",
        "gs_knn_result=gs.fit(X_train,y_train)\n",
        "print(f'Best training score:{round(gs_knn_result.best_score_,3)*100}') #~Best training score:70.1\n",
        "print(f'Best parametrs:{gs_knn_result.best_params_}')\n",
        "\n",
        "y_pred=gs.predict(X_test)\n",
        "print(f'Test Accuracy:{round(accuracy_score(y_pred,y_test),3)*100}')\n",
        "cf_matrix=confusion_matrix(y_test,y_pred)\n"
      ],
      "execution_count": null,
      "outputs": []
    },
    {
      "cell_type": "code",
      "metadata": {
        "id": "SyeSfcvzgvRS"
      },
      "source": [
        "group_names = ['True Neg','False Pos','False Neg','True Pos']\n",
        "group_counts = ['{0:0.0f}'.format(value) for value in\n",
        "                cf_matrix.flatten()]\n",
        "group_percentages = ['{0:.2%}'.format(value) for value in\n",
        "                     cf_matrix.flatten()/np.sum(cf_matrix)]\n",
        "labels = [f'{v1}\\n{v2}\\n{v3}' for v1, v2, v3 in\n",
        "          zip(group_names,group_counts,group_percentages)]\n",
        "labels = np.asarray(labels).reshape(2,2)\n",
        "sns.heatmap(cf_matrix, annot=labels, fmt=\"\", cmap='Blues',cbar=False)\n",
        "plt.xlabel('True')\n",
        "plt.ylabel('Predicted');"
      ],
      "execution_count": null,
      "outputs": []
    },
    {
      "cell_type": "markdown",
      "metadata": {
        "id": "XM8ZsEP6VZDi"
      },
      "source": [
        "##### ניתן לראות שאנחנו מקבלים תוצאה של כ-71% דיוק ללא כל הכנה של הנתונים \n",
        "##### שזה כמובן לא משהוא שיכול לשרת מטרה עסקית שלנו במיוחד כאשר מדובר בנתונים רפואים"
      ]
    },
    {
      "cell_type": "markdown",
      "metadata": {
        "id": "Lb-ziyRrluf1"
      },
      "source": [
        "#### Numeric Scalling - Robusting "
      ]
    },
    {
      "cell_type": "code",
      "metadata": {
        "id": "g9C_GYjtlrpU"
      },
      "source": [
        "heart_data_prep=heart_clean_data.copy()# לוקח רק נתונים רציפים מכיוון שנתונים קטגורליים לא רלונטיים בכלל לאלגוריתם ללא טרנספורמציה\n",
        "print(f'heart_data_noprep Example: \\n{heart_clean_data[numeric_features][:1]}')\n",
        "X=heart_clean_data[numeric_features]\n",
        "y=heart_clean_data['output']\n",
        "\n",
        "X_train, X_test, y_train, y_test = train_test_split(X, y, test_size=0.2, random_state=42)\n",
        "\n",
        "#Robust scaling of numeric sub dataset\n",
        "robust_scaler= RobustScaler()\n",
        "X_train=robust_scaler.fit_transform(X_train)\n",
        "X_test=robust_scaler.transform(X_test)\n",
        "\n",
        "\n",
        "grid_params={\n",
        "    'n_neighbors':range(2,40),\n",
        "    'weights':['uniform','distance'],\n",
        "    'metric':['euclidean','manhattan','minkowski']\n",
        "\n",
        "}\n",
        "gs=GridSearchCV(\n",
        "    KNeighborsClassifier(),\n",
        "    grid_params,\n",
        "    verbose=1,\n",
        "    cv=10,\n",
        "    n_jobs=-1,\n",
        "    return_train_score=True\n",
        ")\n",
        "\n",
        "\n",
        "gs_knn_result=gs.fit(X_train,y_train)\n",
        "print(f'Best training score:{round(gs_knn_result.best_score_,3)*100}') #~Best training score:72.2\n",
        "print(f'Best parametrs:{gs_knn_result.best_params_}')\n",
        "\n",
        "y_pred=gs.predict(X_test)\n",
        "print(f'Test Accuracy:{round(accuracy_score(y_pred,y_test),3)*100}')\n",
        "cf_matrix=confusion_matrix(y_test,y_pred)\n"
      ],
      "execution_count": null,
      "outputs": []
    },
    {
      "cell_type": "code",
      "metadata": {
        "id": "KF4DPPFNlmSl"
      },
      "source": [
        "group_names = ['True Neg','False Pos','False Neg','True Pos']\n",
        "group_counts = ['{0:0.0f}'.format(value) for value in\n",
        "                cf_matrix.flatten()]\n",
        "group_percentages = ['{0:.2%}'.format(value) for value in\n",
        "                     cf_matrix.flatten()/np.sum(cf_matrix)]\n",
        "labels = [f'{v1}\\n{v2}\\n{v3}' for v1, v2, v3 in\n",
        "          zip(group_names,group_counts,group_percentages)]\n",
        "labels = np.asarray(labels).reshape(2,2)\n",
        "sns.heatmap(cf_matrix, annot=labels, fmt=\"\", cmap='Blues',cbar=False)\n",
        "plt.xlabel('True')\n",
        "plt.ylabel('Predicted');\n"
      ],
      "execution_count": null,
      "outputs": []
    },
    {
      "cell_type": "markdown",
      "metadata": {
        "id": "TN73DbR-q7jM"
      },
      "source": [
        "  אפשר לזהות שיפור כל בתוצאה RobustScaling אחרי שימוש ב  "
      ]
    },
    {
      "cell_type": "markdown",
      "metadata": {
        "id": "Hzj1QhHQrt7E"
      },
      "source": [
        "#### Numeric Scalling - Standard Scaling "
      ]
    },
    {
      "cell_type": "code",
      "metadata": {
        "id": "cr0buyQiq6eU"
      },
      "source": [
        "heart_data_prep=heart_clean_data.copy()# לוקח רק נתונים רציפים מכיוון שנתונים קטגורליים לא רלונטיים בכלל לאלגוריתם ללא טרנספורמציה\n",
        "print(f'heart_data_noprep Example: \\n{heart_clean_data[numeric_features][:1]}')\n",
        "X=heart_clean_data[numeric_features]\n",
        "y=heart_clean_data['output']\n",
        "\n",
        "X_train, X_test, y_train, y_test = train_test_split(X, y, test_size=0.2, random_state=42)\n",
        "\n",
        "#Standard scaling of numeric sub dataset\n",
        "standard_scaler= StandardScaler()\n",
        "X_train=standard_scaler.fit_transform(X_train)\n",
        "X_test=standard_scaler.transform(X_test)\n",
        "\n",
        "\n",
        "grid_params={\n",
        "    'n_neighbors':range(2,40),\n",
        "    'weights':['uniform','distance'],\n",
        "    'metric':['euclidean','manhattan','minkowski']\n",
        "\n",
        "}\n",
        "gs=GridSearchCV(\n",
        "    KNeighborsClassifier(),\n",
        "    grid_params,\n",
        "    verbose=1,\n",
        "    cv=10,\n",
        "    n_jobs=-1,\n",
        "    return_train_score=True\n",
        ")\n",
        "\n",
        "gs_knn_result=gs.fit(X_train,y_train)\n",
        "print(f'Best training score:{round(gs_knn_result.best_score_,3)*100}') #Best training score:72.6\n",
        "print(f'Best parametrs:{gs_knn_result.best_params_}')\n",
        "\n",
        "y_pred=gs.predict(X_test)\n",
        "print(f'Test Accuracy:{round(accuracy_score(y_pred,y_test),3)*100}')\n",
        "cf_matrix=confusion_matrix(y_test,y_pred)\n"
      ],
      "execution_count": null,
      "outputs": []
    },
    {
      "cell_type": "code",
      "metadata": {
        "id": "V6bWxDdllmOi"
      },
      "source": [
        "group_names = ['True Neg','False Pos','False Neg','True Pos']\n",
        "group_counts = ['{0:0.0f}'.format(value) for value in\n",
        "                cf_matrix.flatten()]\n",
        "group_percentages = ['{0:.2%}'.format(value) for value in\n",
        "                     cf_matrix.flatten()/np.sum(cf_matrix)]\n",
        "labels = [f'{v1}\\n{v2}\\n{v3}' for v1, v2, v3 in\n",
        "          zip(group_names,group_counts,group_percentages)]\n",
        "labels = np.asarray(labels).reshape(2,2)\n",
        "sns.heatmap(cf_matrix, annot=labels, fmt=\"\", cmap='Blues',cbar=False)\n",
        "plt.xlabel('True')\n",
        "plt.ylabel('Predicted');"
      ],
      "execution_count": null,
      "outputs": []
    },
    {
      "cell_type": "markdown",
      "metadata": {
        "id": "u6o5a3yZuy5s"
      },
      "source": [
        "#####ניתן לראות שיפור מסוים בתוצאה  standard scaler במקרה של \n",
        "##### ולכן אעדיף להשתמש בו"
      ]
    },
    {
      "cell_type": "markdown",
      "metadata": {
        "id": "uppie-9iv93I"
      },
      "source": [
        "#### Mix Data: numeric and categorical preprossesing"
      ]
    },
    {
      "cell_type": "code",
      "metadata": {
        "id": "CLISBMoaXeoe"
      },
      "source": [
        "numeric_transformer =Pipeline(steps=[('scaler',StandardScaler())])\n",
        "categorical_transformer=Pipeline(steps=[('onehot',OneHotEncoder(handle_unknown='ignore'))])\n",
        "prep=ColumnTransformer(transformers=[('num',numeric_transformer,numeric_features ),\n",
        "                                     ('cat',categorical_transformer,categorical_features)])\n",
        "\n",
        "heart_data_prep=heart_clean_data.copy()\n",
        "print(\"OrigDataset\",heart_data_prep.head(1))\n",
        "X=heart_data_prep.drop('output',axis=1)\n",
        "print(\"X - columns:\",X.columns)\n",
        "y=heart_data_prep['output']\n",
        "print(\"y-target name:\",y.name)\n",
        "\n",
        "X_train, X_test, y_train, y_test = train_test_split(X, y, test_size=0.2, random_state=42)\n",
        "X_train=prep.fit_transform(X_train)\n",
        "X_test=prep.transform(X_test)\n",
        "\n",
        "print('------example of X_train after preperations---------\\n',X_train[:1])\n",
        "\n",
        "\n",
        "grid_params={\n",
        "    'n_neighbors':range(2,40),\n",
        "    'weights':['uniform','distance'],\n",
        "    'metric':['euclidean','manhattan','minkowski']\n",
        "\n",
        "}\n",
        "gs=GridSearchCV(\n",
        "    KNeighborsClassifier(),\n",
        "    grid_params,verbose=1,\n",
        "    cv=10,\n",
        "    n_jobs=-1\n",
        ")\n",
        "\n",
        "\n",
        "gs_knn_result=gs.fit(X_train,y_train)\n",
        "print(f'Best training score:{round(gs_knn_result.best_score_,3)*100}') #~Best training score:85.1\n",
        "print(f'Best parametrs:{gs_knn_result.best_params_}')\n",
        "\n",
        "y_pred=gs.predict(X_test)\n",
        "print(f'Test Accuracy:{round(accuracy_score(y_pred,y_test),3)*100}')\n",
        "cf_matrix=confusion_matrix(y_test,y_pred)\n"
      ],
      "execution_count": null,
      "outputs": []
    },
    {
      "cell_type": "code",
      "metadata": {
        "id": "zK0HFPfC9q1z"
      },
      "source": [
        "group_names = ['True Neg','False Pos','False Neg','True Pos']\n",
        "group_counts = ['{0:0.0f}'.format(value) for value in\n",
        "                cf_matrix.flatten()]\n",
        "group_percentages = ['{0:.2%}'.format(value) for value in\n",
        "                     cf_matrix.flatten()/np.sum(cf_matrix)]\n",
        "labels = [f'{v1}\\n{v2}\\n{v3}' for v1, v2, v3 in\n",
        "          zip(group_names,group_counts,group_percentages)]\n",
        "labels = np.asarray(labels).reshape(2,2)\n",
        "sns.heatmap(cf_matrix, annot=labels, fmt=\"\", cmap='Blues',cbar=False)\n",
        "plt.xlabel('True')\n",
        "plt.ylabel('Predicted');"
      ],
      "execution_count": null,
      "outputs": []
    },
    {
      "cell_type": "code",
      "metadata": {
        "id": "WttDwUkP-BSH"
      },
      "source": [
        "numeric_transformer =Pipeline(steps=[('scaler',StandardScaler())])\n",
        "categorical_transformer=Pipeline(steps=[('onehot',OneHotEncoder(handle_unknown='ignore'))])\n",
        "categorical_ordinal_transformer=Pipeline(steps=[('ordinal',OrdinalEncoder())])\n",
        "\n",
        "prep=ColumnTransformer(transformers=[('num',numeric_transformer,numeric_features ),\n",
        "                                     ('cat',categorical_transformer,['sex', 'cp', 'fbs', 'restecg', 'exng',  'thall']),\n",
        "                                     ('cat_ord',categorical_ordinal_transformer,['slp', 'caa']) ])\n",
        "\n",
        "heart_data_prep=heart_clean_data.copy()\n",
        "print(\"OrigDataset\",heart_data_prep.head(1))\n",
        "X=heart_data_prep.drop('output',axis=1)\n",
        "print(\"X - columns:\",X.columns)\n",
        "y=heart_data_prep['output']\n",
        "print(\"y-target name:\",y.name)\n",
        "\n",
        "X_train, X_test, y_train, y_test = train_test_split(X, y, test_size=0.2, random_state=42)\n",
        "X_train=prep.fit_transform(X_train)\n",
        "X_test=prep.transform(X_test)\n",
        "\n",
        "print('------example of X_train after preperations---------\\n',X_train[:1])\n",
        "\n",
        "\n",
        "grid_params={\n",
        "    'n_neighbors':range(2,40),\n",
        "    'weights':['uniform','distance'],\n",
        "    'metric':['euclidean','manhattan','minkowski']\n",
        "\n",
        "}\n",
        "gs=GridSearchCV(\n",
        "    KNeighborsClassifier(),\n",
        "    grid_params,verbose=1,\n",
        "    cv=10,\n",
        "    n_jobs=-1\n",
        ")\n",
        "\n",
        "\n",
        "gs_knn_result=gs.fit(X_train,y_train)\n",
        "print(f'Best training score:{round(gs_knn_result.best_score_,3)*100}') #~Best training score:83.8\n",
        "print(f'Best parametrs:{gs_knn_result.best_params_}')\n",
        "\n",
        "y_pred=gs.predict(X_test)\n",
        "print(f'Test Accuracy:{round(accuracy_score(y_pred,y_test),3)*100}')\n",
        "cf_matrix=confusion_matrix(y_test,y_pred)\n"
      ],
      "execution_count": null,
      "outputs": []
    },
    {
      "cell_type": "code",
      "metadata": {
        "id": "4H3dhMnADY8B"
      },
      "source": [
        "group_names = ['True Neg','False Pos','False Neg','True Pos']\n",
        "group_counts = ['{0:0.0f}'.format(value) for value in\n",
        "                cf_matrix.flatten()]\n",
        "group_percentages = ['{0:.2%}'.format(value) for value in\n",
        "                     cf_matrix.flatten()/np.sum(cf_matrix)]\n",
        "labels = [f'{v1}\\n{v2}\\n{v3}' for v1, v2, v3 in\n",
        "          zip(group_names,group_counts,group_percentages)]\n",
        "labels = np.asarray(labels).reshape(2,2)\n",
        "sns.heatmap(cf_matrix, annot=labels, fmt=\"\", cmap='Blues',cbar=False)\n",
        "plt.xlabel('True')\n",
        "plt.ylabel('Predicted');"
      ],
      "execution_count": null,
      "outputs": []
    },
    {
      "cell_type": "markdown",
      "source": [
        " :כעת אחרי ניסיון שלנו עם הכנת נתונים ניתן לסכם \n",
        "\n",
        "#####Standardscaler-עבור **משתנים רציפים** נשתמש בטרנספורמציה של \n",
        "* y = (x – mean) / standard_deviation\n",
        "* mean = sum(x) / count(x)\n",
        "* standard_deviation = sqrt( sum( (x – mean)^2 ) / count(x))\n",
        "\n",
        "#####OneHotEncoder-עבור **משתנים קטגורליים** אשתמש בהצגה בינארית של קטגוריות בעזרת טרנספורמר \n"
      ],
      "metadata": {
        "id": "OKZJA8IwFNEV"
      }
    },
    {
      "cell_type": "markdown",
      "metadata": {
        "id": "F5_ubZOmiOPJ"
      },
      "source": [
        "# Modeling"
      ]
    },
    {
      "cell_type": "markdown",
      "source": [
        "####Split Train/Test preprocess data\n",
        "\n",
        "\n",
        "\n",
        "\n"
      ],
      "metadata": {
        "id": "-Y2TGFq3FIZU"
      }
    },
    {
      "cell_type": "code",
      "source": [
        "\n",
        "numeric_transformer =Pipeline(steps=[('scaler',StandardScaler())])\n",
        "categorical_transformer=Pipeline(steps=[('onehot',OneHotEncoder(handle_unknown='ignore'))])\n",
        "prep=ColumnTransformer(transformers=[('num',numeric_transformer,numeric_features ),\n",
        "                                     ('cat',categorical_transformer,categorical_features)])\n",
        "\n",
        "heart_data_prep=heart_clean_data.copy()\n",
        "print(\"OrigDataset\",heart_data_prep.head(1))\n",
        "X=heart_data_prep.drop('output',axis=1)\n",
        "print(\"X - columns:\",X.columns)\n",
        "y=heart_data_prep['output']\n",
        "print(\"y-target name:\",y.name)\n",
        "# split into train test sets with stratify\n",
        "X_train, X_test, y_train, y_test = train_test_split(X, y, test_size=0.3,stratify=y, random_state=42)\n",
        "##Transformed and spliting dataset\n",
        "X_train=prep.fit_transform(X_train)\n",
        "X_test=prep.transform(X_test)\n",
        "\n",
        "print('------example of X_train after preperations---------\\n',X_train[:1])"
      ],
      "metadata": {
        "id": "EerSMUEgXlUJ"
      },
      "execution_count": null,
      "outputs": []
    },
    {
      "cell_type": "markdown",
      "source": [
        "##### Optimal k for KNN Model"
      ],
      "metadata": {
        "id": "0eNejW4f9sS_"
      }
    },
    {
      "cell_type": "code",
      "source": [
        "f1_scores=[]\n",
        "eror_rates=[]#1-accuracy\n",
        "\n",
        "train_scores=[]\n",
        "test_scores=[]\n",
        "\n",
        "K_values = [i for i in range(1, 51)]\n",
        "for k in K_values:\n",
        "    knn=KNeighborsClassifier(n_neighbors=k,)\n",
        "    knn=knn.fit(X_train,y_train)\n",
        " #   cv_scores = cross_val_score(knn, X_train,y_train, cv=5)\n",
        "    y_pred=knn.predict(X_test)\n",
        "   \n",
        "    f1=f1_score(y_test,y_pred)    \n",
        "    f1_scores.append(round(f1,4))\n",
        "\n",
        "    error=1-round(accuracy_score(y_test,y_pred),4)\n",
        "    eror_rates.append(error)\n",
        "#בקרת לימוד יתר עבור מודל \n",
        "    train_scores.append(accuracy_score( y_train,knn.predict(X_train)))\n",
        "    test_scores.append(accuracy_score(y_test,knn.predict(X_test)))\n",
        "   "
      ],
      "metadata": {
        "id": "HJX2CF-M81bk"
      },
      "execution_count": null,
      "outputs": []
    },
    {
      "cell_type": "code",
      "source": [
        "\n",
        "\n",
        "fig, (ax0, ax1, ax2) = plt.subplots(1, 3,figsize=(25,5))\n",
        "fig.suptitle('Optimal K')\n",
        "#Elbow Curve plot\n",
        "ax0.plot(K_values,eror_rates,color='blue', linestyle='dashed', marker='o',markerfacecolor='red', markersize=5)\n",
        "ax0.set_title('Elbow Curve-Error rate vs. K Values')\n",
        "ax0.set(xlabel='K', ylabel='Error rates')\n",
        "\n",
        "# F1 plot\n",
        "ax1.plot(K_values,f1_scores,color='blue', linestyle='dashed', marker='o',markerfacecolor='red', markersize=5)\n",
        "ax1.set_title('F1_score vs. K Values')\n",
        "ax1.set(xlabel='K', ylabel='F1_score')\n",
        "\n",
        "#Train Test vs K Values\n",
        "\n",
        "ax2.plot(K_values,train_scores, label='Training Accuracy', color='red')\n",
        "ax2.plot(K_values, test_scores, label='Testing Accuracy',  color='black')\n",
        "ax2.set_title('Train Test Accuracy vs K Values')\n",
        "ax2.set(xlabel='K', ylabel='Trai/Test score')\n",
        "ax2.legend();\n"
      ],
      "metadata": {
        "id": "KgbvuUkt81YF"
      },
      "execution_count": null,
      "outputs": []
    },
    {
      "cell_type": "markdown",
      "source": [
        "#####שלושת הגראפים עוזרים לנו להבין בצורה מצוינת \n",
        "##### אופטימאלי כדי להשיג דיוק גבוהה יותר של המודל  K את מספר \n",
        "##### אופטימלי דיוק של המודל בערך זה גבוהה ביותר  K=23בגראף רואים בצורה מאד פשוטה ש\n",
        "#####     בנוסף על מנת להבין את יכולת ניבוי של המודל על נתונים חדשים \n",
        "##### בעזרת גראף השוואה בין דיוק ניבוי של נתוני אימון לנתוני ביקורת\n",
        "#####מעל20  K   במקרה שלנו אפשר לראות שדיוק ניבוי דומה מתחיל בערכי \n",
        "#####וזה מעיד על ביצועי מודל דומים לאלו שקיבלנו על נתוני אימון גם על נתונים חדשים\n",
        "#####בצורה זאת אנחנו גם מוודאים שאין למידת יתר של המודל\n",
        "##### הרי מודל שעובד מספיק טוב גם על נתוני אימון וגם על נתוני בקרה ככל הנראה \n",
        "#####הצליח לתפוס רעיון יקרי של הנתונים המתארים סוגיה עסקית שלנו "
      ],
      "metadata": {
        "id": "xBj61ovzJagR"
      }
    },
    {
      "cell_type": "code",
      "source": [
        "best_f1_score=max(f1_scores)\n",
        "best_k=K_values[f1_scores.index(best_f1_score)]        \n",
        "print(\"Optimal K value=\",best_k,\" with F1-Score=\",best_f1_score)\n"
      ],
      "metadata": {
        "id": "-xcfYY1r81N4"
      },
      "execution_count": null,
      "outputs": []
    },
    {
      "cell_type": "code",
      "source": [
        "knn=KNeighborsClassifier(n_neighbors=best_k)\n",
        "knn=knn.fit(X_train,y_train)\n",
        "y_pred=knn.predict(X_test)\n",
        "print(\"Optimal K value=\",best_k)\n",
        "print('\\n')\n",
        "print(classification_report(y_test,y_pred))\n",
        "\n",
        "cf_matrix=confusion_matrix(y_test,y_pred)\n",
        "group_names = ['True Neg','False Pos','False Neg','True Pos']\n",
        "group_counts = ['{0:0.0f}'.format(value) for value in\n",
        "                cf_matrix.flatten()]\n",
        "group_percentages = ['{0:.2%}'.format(value) for value in\n",
        "                     cf_matrix.flatten()/np.sum(cf_matrix)]\n",
        "labels = [f'{v1}\\n{v2}\\n{v3}' for v1, v2, v3 in\n",
        "          zip(group_names,group_counts,group_percentages)]\n",
        "labels = np.asarray(labels).reshape(2,2)\n",
        "sns.heatmap(cf_matrix, annot=labels, fmt=\"\", cmap='Blues',cbar=False)\n",
        "plt.xlabel('True')\n",
        "plt.ylabel('Predicted');"
      ],
      "metadata": {
        "id": "JDkNEcrB807w"
      },
      "execution_count": null,
      "outputs": []
    },
    {
      "cell_type": "markdown",
      "source": [
        "בשלב אחרון נבדוק  מדד למרחק המתאים ביותר עבור מודל שיצרנו\n",
        "* EuclideanDistance- sqrt(sum((x - y)^2))\n",
        "* ManhattanDistance- sum(|x - y|)\n",
        "* MinkowskiDistance- sum(|x - y|^p)^(1/p)\n",
        "* WMinkowskiDistance-sum(|w * (x - y)|^p)^(1/p)\n",
        "* SEuclideanDistance -sqrt(sum((x - y)^2 / V))\n",
        "*MahalanobisDistance -qrt((x - y)' V^-1 (x - y))"
      ],
      "metadata": {
        "id": "1l46Sd6Hp8-l"
      }
    },
    {
      "cell_type": "code",
      "source": [
        "\n",
        "grid_params={\n",
        "    \n",
        "    'weights':['uniform','distance'],\n",
        "    'metric':['euclidean','manhattan','chebyshev','minkowski','wminkowski','seuclidean','mahalanobis']\n",
        "\n",
        "}\n",
        "gs=GridSearchCV(\n",
        "    KNeighborsClassifier(n_neighbors=best_k),\n",
        "    grid_params,\n",
        "    verbose=1,\n",
        "    cv=20,\n",
        "    n_jobs=-1\n",
        ")\n",
        "\n",
        "gs_knn_result=gs.fit(X_train,y_train)\n",
        "print(\"Optimal K value=\",best_k)\n",
        "print(f'Best training score:{round(gs_knn_result.best_score_,3)*100}') \n",
        "print(f'Best parametrs:{gs_knn_result.best_params_}')\n",
        "\n",
        "y_pred=gs.predict(X_test)\n",
        "print(f'Test Accuracy:{round(accuracy_score(y_pred,y_test),3)*100}')\n",
        "cf_matrix=confusion_matrix(y_test,y_pred)\n",
        "\n",
        "cf_matrix=confusion_matrix(y_test,y_pred)\n",
        "group_names = ['True Neg','False Pos','False Neg','True Pos']\n",
        "group_counts = ['{0:0.0f}'.format(value) for value in\n",
        "                cf_matrix.flatten()]\n",
        "group_percentages = ['{0:.2%}'.format(value) for value in\n",
        "                     cf_matrix.flatten()/np.sum(cf_matrix)]\n",
        "labels = [f'{v1}\\n{v2}\\n{v3}' for v1, v2, v3 in\n",
        "          zip(group_names,group_counts,group_percentages)]\n",
        "labels = np.asarray(labels).reshape(2,2)\n",
        "sns.heatmap(cf_matrix, annot=labels, fmt=\"\", cmap='Blues',cbar=False)\n",
        "plt.xlabel('True')\n",
        "plt.ylabel('Predicted')\n",
        "print(classification_report(y_test,y_pred));"
      ],
      "metadata": {
        "id": "yOD10o7w80rN"
      },
      "execution_count": null,
      "outputs": []
    },
    {
      "cell_type": "code",
      "source": [
        ""
      ],
      "metadata": {
        "id": "WgafNFKQ80dG"
      },
      "execution_count": null,
      "outputs": []
    }
  ]
}